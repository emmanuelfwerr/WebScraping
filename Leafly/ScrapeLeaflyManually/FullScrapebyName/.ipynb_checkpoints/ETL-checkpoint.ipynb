{
 "cells": [
  {
   "cell_type": "code",
   "execution_count": 1,
   "metadata": {},
   "outputs": [],
   "source": [
    "import pandas as pd\n",
    "import numpy as np\n",
    "import matplotlib.pyplot as plt\n",
    "%matplotlib inline"
   ]
  },
  {
   "cell_type": "code",
   "execution_count": 2,
   "metadata": {},
   "outputs": [],
   "source": [
    "all_files = []\n",
    "for i in range(1,161):\n",
    "    all_files.append('page{}_strain_data.csv'.format(i))"
   ]
  },
  {
   "cell_type": "code",
   "execution_count": 3,
   "metadata": {},
   "outputs": [],
   "source": [
    "full_strain_df = pd.DataFrame()\n",
    "for file in all_files:\n",
    "    df = pd.read_csv(file)\n",
    "    full_strain_df = full_strain_df.append(df, ignore_index=True)"
   ]
  },
  {
   "cell_type": "code",
   "execution_count": 4,
   "metadata": {},
   "outputs": [],
   "source": [
    "full_strain_df.to_csv('full_strain_df.csv', index=False)"
   ]
  },
  {
   "cell_type": "code",
   "execution_count": 5,
   "metadata": {},
   "outputs": [
    {
     "name": "stdout",
     "output_type": "stream",
     "text": [
      "<class 'pandas.core.frame.DataFrame'>\n",
      "RangeIndex: 5091 entries, 0 to 5090\n",
      "Data columns (total 64 columns):\n",
      " #   Column                      Non-Null Count  Dtype \n",
      "---  ------                      --------------  ----- \n",
      " 0   strain                      5091 non-null   object\n",
      " 1   type                        5091 non-null   object\n",
      " 2   potency                     5091 non-null   object\n",
      " 3   rating                      5091 non-null   object\n",
      " 4   review_count                5091 non-null   object\n",
      " 5   reports                     5091 non-null   object\n",
      " 6   Anxiety                     2006 non-null   object\n",
      " 7   Creative                    809 non-null    object\n",
      " 8   Depression                  2391 non-null   object\n",
      " 9   Dizzy                       1587 non-null   object\n",
      " 10  Dry eyes                    2187 non-null   object\n",
      " 11  Dry mouth                   2502 non-null   object\n",
      " 12  Euphoric                    2342 non-null   object\n",
      " 13  Focused                     764 non-null    object\n",
      " 14  Happy                       2799 non-null   object\n",
      " 15  Headache                    956 non-null    object\n",
      " 16  Insomnia                    1182 non-null   object\n",
      " 17  Pain                        2117 non-null   object\n",
      " 18  Paranoid                    1199 non-null   object\n",
      " 19  Stress                      2462 non-null   object\n",
      " 20  Uplifted                    2479 non-null   object\n",
      " 21  ADD/ADHD                    205 non-null    object\n",
      " 22  Fatigue                     768 non-null    object\n",
      " 23  Giggly                      313 non-null    object\n",
      " 24  Muscle spasms               247 non-null    object\n",
      " 25  Relaxed                     2637 non-null   object\n",
      " 26  Energetic                   731 non-null    object\n",
      " 27  Inflammation                342 non-null    object\n",
      " 28  Cramps                      170 non-null    object\n",
      " 29  Headaches                   515 non-null    object\n",
      " 30  Sleepy                      990 non-null    object\n",
      " 31  Tingly                      444 non-null    object\n",
      " 32  Hungry                      685 non-null    object\n",
      " 33  Anxious                     1255 non-null   object\n",
      " 34  PTSD                        217 non-null    object\n",
      " 35  Lack of appetite            557 non-null    object\n",
      " 36  Talkative                   449 non-null    object\n",
      " 37  Nausea                      301 non-null    object\n",
      " 38  Bipolar disorder            58 non-null     object\n",
      " 39  Fibromyalgia                15 non-null     object\n",
      " 40  Spasticity                  27 non-null     object\n",
      " 41  Migraines                   85 non-null     object\n",
      " 42  Aroused                     91 non-null     object\n",
      " 43  Eye pressure                149 non-null    object\n",
      " 44  Multiple sclerosis          7 non-null      object\n",
      " 45  Gastrointestinal disorder   19 non-null     object\n",
      " 46  Alzheimer's                 4 non-null      object\n",
      " 47  PMS                         22 non-null     object\n",
      " 48  Arthritis                   74 non-null     object\n",
      " 49  Epilepsy                    9 non-null      object\n",
      " 50  Seizures                    14 non-null     object\n",
      " 51  Asthma                      11 non-null     object\n",
      " 52  Parkinson's                 2 non-null      object\n",
      " 53  Spinal cord injury          6 non-null      object\n",
      " 54  Tourette's syndrome         2 non-null      object\n",
      " 55  Anorexia                    11 non-null     object\n",
      " 56  Tinnitus                    2 non-null      object\n",
      " 57  Cancer                      10 non-null     object\n",
      " 58  Muscular dystrophy          1 non-null      object\n",
      " 59  Phantom limb pain           3 non-null      object\n",
      " 60  Hypertension                13 non-null     object\n",
      " 61  Crohn's disease             7 non-null      object\n",
      " 62  Glaucoma                    5 non-null      object\n",
      " 63  HIV/AIDS                    2 non-null      object\n",
      "dtypes: object(64)\n",
      "memory usage: 2.5+ MB\n"
     ]
    }
   ],
   "source": [
    "full_strain_df.info()"
   ]
  },
  {
   "cell_type": "code",
   "execution_count": null,
   "metadata": {},
   "outputs": [],
   "source": []
  }
 ],
 "metadata": {
  "kernelspec": {
   "display_name": "Python 3",
   "language": "python",
   "name": "python3"
  },
  "language_info": {
   "codemirror_mode": {
    "name": "ipython",
    "version": 3
   },
   "file_extension": ".py",
   "mimetype": "text/x-python",
   "name": "python",
   "nbconvert_exporter": "python",
   "pygments_lexer": "ipython3",
   "version": "3.7.6"
  }
 },
 "nbformat": 4,
 "nbformat_minor": 4
}
